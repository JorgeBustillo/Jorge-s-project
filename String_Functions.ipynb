{
  "nbformat": 4,
  "nbformat_minor": 0,
  "metadata": {
    "colab": {
      "name": "String_Functions.ipynb",
      "provenance": [],
      "collapsed_sections": [],
      "authorship_tag": "ABX9TyOSZxtpqCoXU23MZUmvg71X",
      "include_colab_link": true
    },
    "kernelspec": {
      "name": "python3",
      "display_name": "Python 3"
    },
    "language_info": {
      "name": "python"
    }
  },
  "cells": [
    {
      "cell_type": "markdown",
      "metadata": {
        "id": "view-in-github",
        "colab_type": "text"
      },
      "source": [
        "<a href=\"https://colab.research.google.com/github/JorgeBustillo/Jorge-s-project/blob/main/String_Functions.ipynb\" target=\"_parent\"><img src=\"https://colab.research.google.com/assets/colab-badge.svg\" alt=\"Open In Colab\"/></a>"
      ]
    },
    {
      "cell_type": "code",
      "metadata": {
        "id": "BCak6JX1uwZ9"
      },
      "source": [
        "#Function 1\n",
        "def add_prefix_un(word):\n",
        "  return \"un\" + word\n",
        "\n",
        "#Function 2\n",
        "def make_word_groups(vocab_words):\n",
        "  prefix = [\"re\", \"un\", \"di\", \"pre\"]\n",
        "  vocab_words = [\"appear\", \"do\", \"stance\", \"built\"]\n",
        "  for i in range(4):\n",
        "    return prefix[i] + \" :: \" + vocab_words[i]\n",
        "\n",
        "\n",
        "#Function 3\n",
        "def remove_suffix_ness(word):\n",
        "  ness = \"ness\"\n",
        "  word1 = word + ness\n",
        "  return word\n",
        "\n",
        "#Function 4\n",
        "def noun_to_verb(sentence, index):\n",
        "  verbsentence = input()\n",
        "  return index + verbsentence"
      ],
      "execution_count": 30,
      "outputs": []
    }
  ]
}