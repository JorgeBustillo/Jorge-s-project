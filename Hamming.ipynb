{
  "nbformat": 4,
  "nbformat_minor": 0,
  "metadata": {
    "colab": {
      "name": "Hamming.ipynb",
      "provenance": [],
      "collapsed_sections": [],
      "include_colab_link": true
    },
    "kernelspec": {
      "name": "python3",
      "display_name": "Python 3"
    },
    "language_info": {
      "name": "python"
    }
  },
  "cells": [
    {
      "cell_type": "markdown",
      "metadata": {
        "id": "view-in-github",
        "colab_type": "text"
      },
      "source": [
        "<a href=\"https://colab.research.google.com/github/JorgeBustillo/Jorge-s-project/blob/main/Hamming.ipynb\" target=\"_parent\"><img src=\"https://colab.research.google.com/assets/colab-badge.svg\" alt=\"Open In Colab\"/></a>"
      ]
    },
    {
      "cell_type": "code",
      "metadata": {
        "id": "dxeOnQF3bQL4"
      },
      "source": [
        "def getHamming(string = 0, strings = 0):\n",
        "  string = input()\n",
        "  strings = input()\n",
        "  if string != strings:\n",
        "    string = len(string)\n",
        "    strings = len(strings)\n",
        "    num = string - strings\n",
        "    if num > 0:\n",
        "      return num\n",
        "    elif num == 0:\n",
        "      return \"No empty strings.\"\n",
        "    else:\n",
        "      return \"Different size strings.\"\n",
        "  \n",
        "getHamming()"
      ],
      "execution_count": null,
      "outputs": []
    }
  ]
}