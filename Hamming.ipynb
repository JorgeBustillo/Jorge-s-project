{
  "nbformat": 4,
  "nbformat_minor": 0,
  "metadata": {
    "colab": {
      "name": "Hamming.ipynb",
      "provenance": [],
      "collapsed_sections": [],
      "authorship_tag": "ABX9TyOywguQfEkwOo/lHygeBZ7K",
      "include_colab_link": true
    },
    "kernelspec": {
      "name": "python3",
      "display_name": "Python 3"
    },
    "language_info": {
      "name": "python"
    }
  },
  "cells": [
    {
      "cell_type": "markdown",
      "metadata": {
        "id": "view-in-github",
        "colab_type": "text"
      },
      "source": [
        "<a href=\"https://colab.research.google.com/github/JorgeBustillo/Jorge-s-project/blob/main/Hamming.ipynb\" target=\"_parent\"><img src=\"https://colab.research.google.com/assets/colab-badge.svg\" alt=\"Open In Colab\"/></a>"
      ]
    },
    {
      "cell_type": "code",
      "metadata": {
        "id": "dxeOnQF3bQL4",
        "colab": {
          "base_uri": "https://localhost:8080/"
        },
        "outputId": "ebb19ae1-d8cf-4c0d-805f-f14d497d7ae8"
      },
      "source": [
        "def getHamming(string = 0, strings = 0):\n",
        "  string = input()\n",
        "  strings = input()\n",
        "  if string != strings:\n",
        "    string = len(string)\n",
        "    strings = len(strings)\n",
        "    num = string - strings\n",
        "    if num > 0:\n",
        "      return num\n",
        "    elif num == 0:\n",
        "      return \"No empty strings.\"\n",
        "    else:\n",
        "      return \"Different size strings.\"\n",
        "  \n",
        "getHamming()"
      ],
      "execution_count": 37,
      "outputs": [
        {
          "name": "stdout",
          "output_type": "stream",
          "text": [
            "no\n",
            "no\n"
          ]
        }
      ]
    }
  ]
}