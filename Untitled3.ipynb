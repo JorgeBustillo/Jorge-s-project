{
  "nbformat": 4,
  "nbformat_minor": 0,
  "metadata": {
    "colab": {
      "name": "Untitled3.ipynb",
      "provenance": [],
      "collapsed_sections": [],
      "authorship_tag": "ABX9TyMgKrhphNg2L/FyN8tvS1Ii",
      "include_colab_link": true
    },
    "kernelspec": {
      "name": "python3",
      "display_name": "Python 3"
    },
    "language_info": {
      "name": "python"
    }
  },
  "cells": [
    {
      "cell_type": "markdown",
      "metadata": {
        "id": "view-in-github",
        "colab_type": "text"
      },
      "source": [
        "<a href=\"https://colab.research.google.com/github/JorgeBustillo/Jorge-s-project/blob/main/Untitled3.ipynb\" target=\"_parent\"><img src=\"https://colab.research.google.com/assets/colab-badge.svg\" alt=\"Open In Colab\"/></a>"
      ]
    },
    {
      "cell_type": "code",
      "metadata": {
        "id": "TZLlGG5zwQBk"
      },
      "source": [
        "import requests\n",
        "from bs4 import BeautifulSoup"
      ],
      "execution_count": 13,
      "outputs": []
    },
    {
      "cell_type": "code",
      "metadata": {
        "id": "nBWMLba1wZJR"
      },
      "source": [
        "URL = \"https://realpython.github.io/fake-jobs/\"\n",
        "page = requests.get(URL)\n",
        "print(page.text)"
      ],
      "execution_count": null,
      "outputs": []
    },
    {
      "cell_type": "code",
      "metadata": {
        "id": "Tkc_fRGlw6wW"
      },
      "source": [
        "soup = BeautifulSoup(page.content, \"html.parser\")\n",
        "results_location = soup.find_all(\"p\", class = \"location\")\n",
        "results_title = soup.find_all(\"p\", class_ = \"title is-5\")"
      ],
      "execution_count": null,
      "outputs": []
    },
    {
      "cell_type": "code",
      "metadata": {
        "id": "sU7Gi-acxuWt"
      },
      "source": [
        "for result in results_location:\n",
        "  print(result.text.strip())\n",
        "\n",
        "for result in results_title:\n",
        "  print(result.text.strip())"
      ],
      "execution_count": null,
      "outputs": []
    }
  ]
}